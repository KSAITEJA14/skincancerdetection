{
 "cells": [
  {
   "cell_type": "code",
   "execution_count": 4,
   "metadata": {},
   "outputs": [
    {
     "name": "stderr",
     "output_type": "stream",
     "text": [
      "<>:2: SyntaxWarning: invalid escape sequence '\\P'\n",
      "<>:2: SyntaxWarning: invalid escape sequence '\\P'\n",
      "C:\\Users\\kalam\\AppData\\Local\\Temp\\ipykernel_20052\\3310361334.py:2: SyntaxWarning: invalid escape sequence '\\P'\n",
      "  train_df = pd.read_csv('C:\\Projects\\SkinCancerDetection\\data\\processed\\\\train.csv')\n"
     ]
    }
   ],
   "source": [
    "import pandas as pd\n",
    "train_df = pd.read_csv('C:\\Projects\\SkinCancerDetection\\data\\processed\\\\train.csv')"
   ]
  },
  {
   "cell_type": "code",
   "execution_count": 6,
   "metadata": {},
   "outputs": [
    {
     "name": "stderr",
     "output_type": "stream",
     "text": [
      "<>:1: SyntaxWarning: invalid escape sequence '\\P'\n",
      "<>:1: SyntaxWarning: invalid escape sequence '\\P'\n",
      "C:\\Users\\kalam\\AppData\\Local\\Temp\\ipykernel_20052\\1133571616.py:1: SyntaxWarning: invalid escape sequence '\\P'\n",
      "  train_df.isnull().sum().to_csv('C:\\Projects\\SkinCancerDetection\\data\\processed\\\\train_null.csv')\n"
     ]
    }
   ],
   "source": [
    "train_df.isnull().sum().to_csv('C:\\Projects\\SkinCancerDetection\\data\\processed\\\\train_null.csv')"
   ]
  }
 ],
 "metadata": {
  "kernelspec": {
   "display_name": "Python 3",
   "language": "python",
   "name": "python3"
  },
  "language_info": {
   "codemirror_mode": {
    "name": "ipython",
    "version": 3
   },
   "file_extension": ".py",
   "mimetype": "text/x-python",
   "name": "python",
   "nbconvert_exporter": "python",
   "pygments_lexer": "ipython3",
   "version": "3.12.3"
  }
 },
 "nbformat": 4,
 "nbformat_minor": 2
}
